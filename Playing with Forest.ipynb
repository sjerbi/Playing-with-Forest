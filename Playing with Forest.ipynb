{
 "cells": [
  {
   "cell_type": "markdown",
   "metadata": {},
   "source": [
    "<h1>Playing with Forest</h1>"
   ]
  },
  {
   "cell_type": "code",
   "execution_count": 4,
   "metadata": {
    "collapsed": true
   },
   "outputs": [],
   "source": [
    "import pyquil.quil as pq\n",
    "import pyquil.api as api\n",
    "from pyquil.gates import *\n",
    "import numpy as np\n",
    "import math\n",
    "\n",
    "qvm = api.SyncConnection()"
   ]
  },
  {
   "cell_type": "markdown",
   "metadata": {},
   "source": [
    "<h2>Documentation exercises</h2>"
   ]
  },
  {
   "cell_type": "markdown",
   "metadata": {},
   "source": [
    "In the documentation of pyQuil (http://pyquil.readthedocs.io/en/latest/), Rigetti gives a few warm-up exercises to get familiar with its library. Let's dig into them!"
   ]
  },
  {
   "cell_type": "markdown",
   "metadata": {},
   "source": [
    "<h3>Exercise 1 - Quantum Dice</h3>"
   ]
  },
  {
   "cell_type": "markdown",
   "metadata": {},
   "source": [
    "<i>Write a quantum program to simulate throwing an 8-sided die.</i>"
   ]
  },
  {
   "cell_type": "code",
   "execution_count": 5,
   "metadata": {
    "collapsed": true
   },
   "outputs": [],
   "source": [
    "def throw_octahedral_die():\n",
    "    # return the result of throwing an 8 sided die, an int between 1 and 8, by running a quantum program\n",
    "    prep = pq.Program().inst(H(0),H(1),H(2))\n",
    "\n",
    "    print(qvm.wavefunction(prep)[0])\n",
    "\n",
    "    p = prep.measure(0,0).measure(1,1).measure(2,2)\n",
    "\n",
    "    classical_regs = [0,1,2]\n",
    "\n",
    "    results = qvm.run(p, classical_regs, 100)\n",
    "\n",
    "    int_res = []\n",
    "\n",
    "    for res in results:\n",
    "        int_res+=[res[0]*4+res[1]*2+res[2]+1]\n",
    "\n",
    "    return(int_res)"
   ]
  },
  {
   "cell_type": "code",
   "execution_count": 7,
   "metadata": {
    "collapsed": false,
    "scrolled": true
   },
   "outputs": [
    {
     "name": "stdout",
     "output_type": "stream",
     "text": [
      "(0.3535533906+0j)|000> + (0.3535533906+0j)|001> + (0.3535533906+0j)|010> + (0.3535533906+0j)|011> + (0.3535533906+0j)|100> + (0.3535533906+0j)|101> + (0.3535533906+0j)|110> + (0.3535533906+0j)|111>\n",
      "[2, 3, 2, 4, 5, 6, 2, 5, 6, 4, 6, 8, 2, 3, 1, 7, 4, 4, 1, 6, 3, 2, 3, 5, 5, 4, 4, 5, 4, 3, 3, 2, 5, 4, 2, 7, 6, 1, 1, 1, 3, 1, 8, 5, 5, 8, 1, 8, 6, 5, 3, 1, 7, 3, 3, 4, 6, 7, 1, 3, 7, 3, 2, 5, 2, 2, 1, 4, 2, 1, 6, 1, 1, 4, 2, 7, 4, 1, 5, 3, 4, 1, 3, 5, 1, 4, 3, 7, 7, 1, 4, 7, 7, 8, 3, 3, 3, 5, 7, 1]\n"
     ]
    }
   ],
   "source": [
    "print(throw_octahedral_die())"
   ]
  },
  {
   "cell_type": "markdown",
   "metadata": {},
   "source": [
    "As we can see from the wavefunction of the program we created, the eight outcomes have equal probabilty, which is (0,3535533906)²≈0.125=1/8.<br/>\n",
    "We then run the program 100 times to get a sample of these outcomes."
   ]
  },
  {
   "cell_type": "markdown",
   "metadata": {},
   "source": [
    "<i>Next, extend the program to work for any kind of fair die.</i>"
   ]
  },
  {
   "cell_type": "code",
   "execution_count": 10,
   "metadata": {
    "collapsed": true
   },
   "outputs": [],
   "source": [
    "from functools import reduce\n",
    "\n",
    "def throw_polyhedral_die(num_sides):\n",
    "    # return the result of throwing a num_sides sided die by running a quantum program\n",
    "    num_qubits = math.ceil(math.log(num_sides, 2))\n",
    "    p = pq.Program()\n",
    "    for i in range(1,num_qubits+1):\n",
    "        p += pq.Program(H(i))\n",
    "    for i in range(1,num_qubits+1):\n",
    "        p += pq.Program().measure(i,i)\n",
    "    classical_regs = [i for i in range(1,num_qubits+1)]\n",
    "    results = qvm.run(p, classical_regs, 100)\n",
    "    results = list(filter(lambda x: x <=num_sides, [reduce(lambda x,y: 2*x+y, r)+1 for r in results]))\n",
    "    return(results)"
   ]
  },
  {
   "cell_type": "code",
   "execution_count": 11,
   "metadata": {
    "collapsed": false
   },
   "outputs": [
    {
     "name": "stdout",
     "output_type": "stream",
     "text": [
      "[85, 19, 579, 1223, 945, 1464, 1362, 1128, 1135, 1402, 516, 173, 1252, 154, 668, 976, 224, 1217, 1178, 92, 1056, 553, 350, 1566, 1064, 174, 1248, 1387, 572, 1180, 1187, 1546, 1183, 327, 704, 947, 108, 964, 341, 1035, 567, 305, 101, 926, 1021, 297, 1348, 13, 849, 1017, 178, 95, 1501, 535, 1102, 691, 1465, 1034, 1265, 287, 569, 1512, 123, 394, 453, 838, 843, 54, 1072, 1221, 119, 788, 1392, 129, 1018, 1427, 710, 181, 817, 810]\n"
     ]
    }
   ],
   "source": [
    "print(throw_polyhedral_die(1600))"
   ]
  },
  {
   "cell_type": "markdown",
   "metadata": {},
   "source": [
    "Because we are working with qubits, we choose the smallest integer m giving 2^m >= num_sides. This gives a die with more sides than asked. Another solution would be to limit the number of sides to a power of 2 with an assert."
   ]
  },
  {
   "cell_type": "markdown",
   "metadata": {},
   "source": [
    "<h3>Exercise 2 - Controlled Gates</h3>"
   ]
  },
  {
   "cell_type": "markdown",
   "metadata": {},
   "source": [
    "<i>1. Write a function \"controlled\" which takes a 2×2 matrix U representing a single qubit operator, and makes a 4×4 matrix which is a controlled variant of U, with the first argument being the control qubit.</i>"
   ]
  },
  {
   "cell_type": "code",
   "execution_count": 21,
   "metadata": {
    "collapsed": true
   },
   "outputs": [],
   "source": [
    "def controlled(U):\n",
    "    U = np.array(U)\n",
    "    assert (np.array_equal(U.transpose().conjugate().dot(U),np.eye(U.shape[0]))),\"U is not unitary!\"\n",
    "    c_u = np.kron(np.array([[0,0],[0,1]]),U)\n",
    "    for i in range(U.shape[0]):\n",
    "        c_u[i][i] = 1\n",
    "    return(c_u)"
   ]
  },
  {
   "cell_type": "code",
   "execution_count": 22,
   "metadata": {
    "collapsed": false,
    "scrolled": true
   },
   "outputs": [
    {
     "ename": "AssertionError",
     "evalue": "U is not unitary!",
     "output_type": "error",
     "traceback": [
      "\u001b[1;31m---------------------------------------------------------------------------\u001b[0m",
      "\u001b[1;31mAssertionError\u001b[0m                            Traceback (most recent call last)",
      "\u001b[1;32m<ipython-input-22-39bfdd6f88f8>\u001b[0m in \u001b[0;36m<module>\u001b[1;34m()\u001b[0m\n\u001b[1;32m----> 1\u001b[1;33m \u001b[0mprint\u001b[0m\u001b[1;33m(\u001b[0m\u001b[0mcontrolled\u001b[0m\u001b[1;33m(\u001b[0m\u001b[0mnp\u001b[0m\u001b[1;33m.\u001b[0m\u001b[0mones\u001b[0m\u001b[1;33m(\u001b[0m\u001b[1;33m(\u001b[0m\u001b[1;36m2\u001b[0m\u001b[1;33m,\u001b[0m\u001b[1;36m2\u001b[0m\u001b[1;33m)\u001b[0m\u001b[1;33m)\u001b[0m\u001b[1;33m)\u001b[0m\u001b[1;33m)\u001b[0m\u001b[1;33m\u001b[0m\u001b[0m\n\u001b[0m",
      "\u001b[1;32m<ipython-input-21-7255b58fe55a>\u001b[0m in \u001b[0;36mcontrolled\u001b[1;34m(U)\u001b[0m\n\u001b[0;32m      1\u001b[0m \u001b[1;32mdef\u001b[0m \u001b[0mcontrolled\u001b[0m\u001b[1;33m(\u001b[0m\u001b[0mU\u001b[0m\u001b[1;33m)\u001b[0m\u001b[1;33m:\u001b[0m\u001b[1;33m\u001b[0m\u001b[0m\n\u001b[0;32m      2\u001b[0m     \u001b[0mU\u001b[0m \u001b[1;33m=\u001b[0m \u001b[0mnp\u001b[0m\u001b[1;33m.\u001b[0m\u001b[0marray\u001b[0m\u001b[1;33m(\u001b[0m\u001b[0mU\u001b[0m\u001b[1;33m)\u001b[0m\u001b[1;33m\u001b[0m\u001b[0m\n\u001b[1;32m----> 3\u001b[1;33m     \u001b[1;32massert\u001b[0m \u001b[1;33m(\u001b[0m\u001b[0mnp\u001b[0m\u001b[1;33m.\u001b[0m\u001b[0marray_equal\u001b[0m\u001b[1;33m(\u001b[0m\u001b[0mU\u001b[0m\u001b[1;33m.\u001b[0m\u001b[0mtranspose\u001b[0m\u001b[1;33m(\u001b[0m\u001b[1;33m)\u001b[0m\u001b[1;33m.\u001b[0m\u001b[0mconjugate\u001b[0m\u001b[1;33m(\u001b[0m\u001b[1;33m)\u001b[0m\u001b[1;33m.\u001b[0m\u001b[0mdot\u001b[0m\u001b[1;33m(\u001b[0m\u001b[0mU\u001b[0m\u001b[1;33m)\u001b[0m\u001b[1;33m,\u001b[0m\u001b[0mnp\u001b[0m\u001b[1;33m.\u001b[0m\u001b[0meye\u001b[0m\u001b[1;33m(\u001b[0m\u001b[0mU\u001b[0m\u001b[1;33m.\u001b[0m\u001b[0mshape\u001b[0m\u001b[1;33m[\u001b[0m\u001b[1;36m0\u001b[0m\u001b[1;33m]\u001b[0m\u001b[1;33m)\u001b[0m\u001b[1;33m)\u001b[0m\u001b[1;33m)\u001b[0m\u001b[1;33m,\u001b[0m\u001b[1;34m\"U is not unitary!\"\u001b[0m\u001b[1;33m\u001b[0m\u001b[0m\n\u001b[0m\u001b[0;32m      4\u001b[0m     \u001b[0mc_u\u001b[0m \u001b[1;33m=\u001b[0m \u001b[0mnp\u001b[0m\u001b[1;33m.\u001b[0m\u001b[0mkron\u001b[0m\u001b[1;33m(\u001b[0m\u001b[0mnp\u001b[0m\u001b[1;33m.\u001b[0m\u001b[0marray\u001b[0m\u001b[1;33m(\u001b[0m\u001b[1;33m[\u001b[0m\u001b[1;33m[\u001b[0m\u001b[1;36m0\u001b[0m\u001b[1;33m,\u001b[0m\u001b[1;36m0\u001b[0m\u001b[1;33m]\u001b[0m\u001b[1;33m,\u001b[0m\u001b[1;33m[\u001b[0m\u001b[1;36m0\u001b[0m\u001b[1;33m,\u001b[0m\u001b[1;36m1\u001b[0m\u001b[1;33m]\u001b[0m\u001b[1;33m]\u001b[0m\u001b[1;33m)\u001b[0m\u001b[1;33m,\u001b[0m\u001b[0mU\u001b[0m\u001b[1;33m)\u001b[0m\u001b[1;33m\u001b[0m\u001b[0m\n\u001b[0;32m      5\u001b[0m     \u001b[0mc_u\u001b[0m\u001b[1;33m[\u001b[0m\u001b[1;36m0\u001b[0m\u001b[1;33m]\u001b[0m\u001b[1;33m[\u001b[0m\u001b[1;36m0\u001b[0m\u001b[1;33m]\u001b[0m \u001b[1;33m=\u001b[0m \u001b[1;36m1\u001b[0m\u001b[1;33m\u001b[0m\u001b[0m\n",
      "\u001b[1;31mAssertionError\u001b[0m: U is not unitary!"
     ]
    }
   ],
   "source": [
    "print(controlled(np.ones((2,2))))"
   ]
  },
  {
   "cell_type": "code",
   "execution_count": 23,
   "metadata": {
    "collapsed": false,
    "scrolled": true
   },
   "outputs": [
    {
     "name": "stdout",
     "output_type": "stream",
     "text": [
      "[[ 1.  0.  0.  0.]\n",
      " [ 0.  1.  0.  0.]\n",
      " [ 0.  0.  0.  1.]\n",
      " [ 0.  0.  1.  0.]]\n"
     ]
    }
   ],
   "source": [
    "x_gate_matrix = np.array(([0.0, 1.0], [1.0, 0.0]))\n",
    "print(controlled(x_gate_matrix))"
   ]
  },
  {
   "cell_type": "markdown",
   "metadata": {},
   "source": [
    "<i>2. Write a Quil program to define a controlled-Y gate in this manner. Find the wavefunction when applying this gate to qubit 1 controlled by qubit 0.</i>"
   ]
  },
  {
   "cell_type": "code",
   "execution_count": 27,
   "metadata": {
    "collapsed": false
   },
   "outputs": [
    {
     "name": "stdout",
     "output_type": "stream",
     "text": [
      "DEFGATE C-Y:\n",
      "    1.0+0.0i, 0.0+0.0i, 0.0+0.0i, 0.0+0.0i\n",
      "    0.0+0.0i, 1.0+0.0i, 0.0+0.0i, 0.0+0.0i\n",
      "    0.0+0.0i, 0.0+0.0i, 0.0+0.0i, 0.0-1.0i\n",
      "    0.0+0.0i, 0.0+0.0i, 0.0+1.0i, 0.0+0.0i\n",
      "\n",
      "\n"
     ]
    }
   ],
   "source": [
    "y_gate_matrix = np.array([[0.0+0.0j, 0.0-1.0j], [0.0+1.0j, 0.0+0.0j]])\n",
    "controlled_y =  controlled(y_gate_matrix)\n",
    "p = pq.Program().defgate(\"C-Y\", controlled_y)\n",
    "print(p)"
   ]
  },
  {
   "cell_type": "code",
   "execution_count": 28,
   "metadata": {
    "collapsed": false
   },
   "outputs": [
    {
     "name": "stdout",
     "output_type": "stream",
     "text": [
      "[ 0.+0.j  0.+0.j  1.+0.j  0.+0.j]\n"
     ]
    }
   ],
   "source": [
    "p.inst(I(0),X(1)).inst((\"C-Y\", 0, 1))\n",
    "wvf, _ = qvm.wavefunction(p)\n",
    "print(wvf.amplitudes)"
   ]
  },
  {
   "cell_type": "code",
   "execution_count": 29,
   "metadata": {
    "collapsed": false
   },
   "outputs": [
    {
     "name": "stdout",
     "output_type": "stream",
     "text": [
      "[ 0.+0.j  0.+0.j  0.+0.j  0.+1.j]\n"
     ]
    }
   ],
   "source": [
    "p = pq.Program().defgate(\"C-Y\", controlled_y)\n",
    "p.inst(I(1),X(0)).inst((\"C-Y\", 0, 1))\n",
    "wvf, _ = qvm.wavefunction(p)\n",
    "print(wvf.amplitudes)"
   ]
  },
  {
   "cell_type": "markdown",
   "metadata": {},
   "source": [
    "We defined a function to create controlled-matrices and tested it with a controlled Y-gate which indeed works as expected. "
   ]
  },
  {
   "cell_type": "markdown",
   "metadata": {},
   "source": [
    "<h3>Exercise 3 - Grover’s Algorithm</h3>"
   ]
  },
  {
   "cell_type": "markdown",
   "metadata": {},
   "source": [
    "<i>Write a quantum program for the single-shot Grover’s algorithm.</i>"
   ]
  },
  {
   "cell_type": "code",
   "execution_count": 71,
   "metadata": {
    "collapsed": true
   },
   "outputs": [],
   "source": [
    "from functools import reduce"
   ]
  },
  {
   "cell_type": "code",
   "execution_count": 72,
   "metadata": {
    "collapsed": true
   },
   "outputs": [],
   "source": [
    "# data is an array of 0's and 1's such that there are exactly three times as many\n",
    "# 0's as 1's\n",
    "def single_shot_grovers(data):\n",
    "    num = len(data)\n",
    "    n_qubits = math.ceil(math.log(num, 2))\n",
    "    data = data+[0 for i in range(2**n_qubits-num)]\n",
    "    num = len(data)\n",
    "    p = pq.Program()\n",
    "    hadamard = np.array([[1,1],[1,-1]])/math.sqrt(2)\n",
    "    H_n = hadamard\n",
    "    for i in range(n_qubits-1):\n",
    "        H_n = np.kron(H_n,hadamard)\n",
    "    p.defgate(\"H-n\", H_n)\n",
    "    oracle = np.multiply(np.eye(num),-2*np.array(data)+1)\n",
    "    p.defgate(\"O\", oracle)\n",
    "    Grover_diff = 2*np.ones((num,num))/num-np.eye(num)\n",
    "    p.defgate(\"G\", Grover_diff)\n",
    "    qubits = [i+1 for i in range(n_qubits)]\n",
    "    p.inst(tuple([\"H-n\"]+qubits))\n",
    "    p.inst(tuple([\"O\"]+qubits))\n",
    "    p.inst(tuple([\"G\"]+qubits))\n",
    "\n",
    "    wvf, _ = qvm.wavefunction(p)\n",
    "    print(wvf)\n",
    "\n",
    "    classical_regs = [i for i in range(1,n_qubits+1)]\n",
    "    for i in classical_regs:\n",
    "        p.measure(i,i)\n",
    "    result = qvm.run(p, classical_regs)[0]\n",
    "    result = reduce(lambda x,y: 2*x+y, result)\n",
    "    return(result)"
   ]
  },
  {
   "cell_type": "code",
   "execution_count": 73,
   "metadata": {
    "collapsed": false
   },
   "outputs": [
    {
     "name": "stdout",
     "output_type": "stream",
     "text": [
      "(1+0j)|01>\n",
      "2\n"
     ]
    }
   ],
   "source": [
    "print(single_shot_grovers([0,0,1,0]))"
   ]
  },
  {
   "cell_type": "code",
   "execution_count": 76,
   "metadata": {
    "collapsed": false
   },
   "outputs": [
    {
     "name": "stdout",
     "output_type": "stream",
     "text": [
      "(0.7071067812+0j)|001> + (0.7071067812+0j)|111>\n",
      "7\n"
     ]
    }
   ],
   "source": [
    "print(single_shot_grovers([0,0,0,0,1,0,0,1]))"
   ]
  },
  {
   "cell_type": "code",
   "execution_count": 82,
   "metadata": {
    "collapsed": false,
    "scrolled": true
   },
   "outputs": [
    {
     "name": "stdout",
     "output_type": "stream",
     "text": [
      "(0.1767766953+0j)|000> + (0.8838834765+0j)|001> + (0.1767766953+0j)|010> + (0.1767766953+0j)|011> + (0.1767766953+0j)|100> + (0.1767766953+0j)|101> + (0.1767766953+0j)|110> + (0.1767766953+0j)|111>\n",
      "0\n"
     ]
    }
   ],
   "source": [
    "#out of the problem's usecase\n",
    "print(single_shot_grovers([0,0,0,0,1,0,0]))"
   ]
  },
  {
   "cell_type": "markdown",
   "metadata": {},
   "source": [
    "Grover's algorthm is based on an Oracle, which matrix reprsentation is:\n",
    "\\begin{split}\\begin{pmatrix}\n",
    "1 & 0 & \\cdots & \\cdots & \\cdots & \\cdots & 0 \\\\\n",
    "0 & \\ddots & & & & &\\\\\n",
    "& & 1 & & & & \\vdots\\\\\n",
    "& & & -1 & & &\\\\\n",
    "\\vdots & & & & 1 & & \\\\\n",
    "& & & & & \\ddots & 0 \\\\\n",
    "0 & & & & \\cdots & 0 & 1\n",
    "\\end{pmatrix}\\end{split}\n",
    "(its function is to highlight the searched element(s))<br/>\n",
    "and a diffusion operator, which matrix representation is:\n",
    "\\begin{split}\\begin{pmatrix}\n",
    "2/N - 1 & 2/N & \\cdots & 2/N \\\\\n",
    "2/N &  & &\\\\\n",
    "\\vdots & & \\ddots & \\\\\n",
    "2/N & & & 2/N-1\n",
    "\\end{pmatrix}\\end{split}\n",
    "In the case were there is only one element to find, Grover's algorithm needs roughly $\\sqrt N$ iterations to find it with a \"high\" probability. But here we always have three times more zeros than ones in our list, which is equivalent to the complexity of the length 4 case with one element to find, then the single-shot Grover's works."
   ]
  },
  {
   "cell_type": "markdown",
   "metadata": {
    "deletable": true,
    "editable": true
   },
   "source": [
    "<h3>Extra exercise - Prisoner’s Dilemma</h3>"
   ]
  },
  {
   "cell_type": "markdown",
   "metadata": {
    "deletable": true,
    "editable": true
   },
   "source": [
    "<i>A classic strategy game is the <a href=\"https://en.wikipedia.org/wiki/Prisoner%27s_dilemma\">prisoner’s dilemma</a> where two prisoners get the minimal penalty if they collaborate and stay silent, get zero penalty if one of them defects and the other collaborates (incurring maximum penalty) and get intermediate penalty if they both defect. This game has an equilibrium where both defect and incur intermediate penalty.<br>\n",
    "\n",
    "However, things change dramatically when we allow for quantum strategies leading to the <a href=\"https://arxiv.org/abs/quant-ph/9806088\">Quantum Prisoner’s Dilemma</a>.<br>\n",
    "\n",
    "Can you design a program that simulates this game?</i>"
   ]
  },
  {
   "cell_type": "code",
   "execution_count": 83,
   "metadata": {
    "collapsed": true
   },
   "outputs": [],
   "source": [
    "def prisoners_dilemma(gamma, theta_a, phi_a, theta_b, phi_b):\n",
    "    gamma = gamma*math.pi/2\n",
    "    theta_a = theta_a*math.pi\n",
    "    theta_b = theta_b*math.pi\n",
    "    phi_a = phi_a*math.pi/2\n",
    "    phi_b = phi_b*math.pi/2\n",
    "\n",
    "    alice_register = 0\n",
    "    bob_register = 1\n",
    "\n",
    "    outcome = {(0,0):(3,3), (0,1):(0,5), (1,0):(5,0), (1,1):(1,1)}\n",
    "\n",
    "    p = pq.Program()\n",
    "\n",
    "    D = np.array([[0,1],[-1,0]])\n",
    "    I_gate = np.exp(gamma*0.5j)*np.kron(D,D)\n",
    "    p.defgate(\"I\", I_gate)\n",
    "    U_a = np.array([[np.exp(phi_a*1.0j)*math.cos(theta_a/2),math.sin(theta_a/2)],[-math.sin(theta_a/2),np.exp(-phi_a*1.0j)*math.cos(theta_a/2)]])\n",
    "    p.defgate(\"Ua\", U_a)\n",
    "    U_b = np.array([[np.exp(phi_b*1.0j)*math.cos(theta_b/2),math.sin(theta_b/2)],[-math.sin(theta_b/2),np.exp(-phi_b*1.0j)*math.cos(theta_b/2)]])\n",
    "    p.defgate(\"Ub\", U_b)\n",
    "    I_dagger = I_gate.conjugate().transpose()\n",
    "    p.defgate(\"Id\", I_dagger)\n",
    "\n",
    "    p.inst((\"I\",0,1))\n",
    "    p.inst((\"Ua\",0),(\"Ub\",1))\n",
    "    p.inst((\"Id\",0,1))\n",
    "\n",
    "    wvf, _ = qvm.wavefunction(p)\n",
    "    print(wvf)\n",
    "\n",
    "    p.measure(0, alice_register)\n",
    "    p.measure(1, bob_register)\n",
    "\n",
    "    result = qvm.run(p, [alice_register,bob_register])[0]\n",
    "    print(result)\n",
    "\n",
    "    return(outcome[tuple(result)])"
   ]
  },
  {
   "cell_type": "code",
   "execution_count": 84,
   "metadata": {
    "collapsed": false
   },
   "outputs": [
    {
     "name": "stdout",
     "output_type": "stream",
     "text": [
      "(0.2205840407+0.9753679721j)|00>\n",
      "[0, 0]\n",
      "(3, 3)\n"
     ]
    }
   ],
   "source": [
    "print(prisoners_dilemma(math.pi/2, 0, math.pi/2, 0, math.pi/2))"
   ]
  },
  {
   "cell_type": "markdown",
   "metadata": {},
   "source": []
  },
  {
   "cell_type": "markdown",
   "metadata": {},
   "source": [
    "<h2>Quantum Reinforcement Learning</h2>"
   ]
  },
  {
   "cell_type": "markdown",
   "metadata": {},
   "source": [
    "As part of a semester project, I started investigating on existing algorithms of Quantum Reinforcement Learning. I came accross this one: <a href=\"https://arxiv.org/pdf/1601.07358.pdf\">https://arxiv.org/pdf/1601.07358.pdf</a> about quantum agents trying to learn how to play simple decision games through classical interactions with a (classical) environemment. The agent's memory is represented by a quantum channel taking as input percepts and rewards and outputting an action state prior to measurement. The update rule of the quantum channel is inspired by Projective Simulation.<br/>\n",
    "I decided to make a hybrid implementation of this algorithm for the \"Invasion game\" using Forest and Numpy."
   ]
  },
  {
   "cell_type": "markdown",
   "metadata": {},
   "source": [
    "Let's start:<br/>\n",
    "The environnement is simple, it takes as arguments the action and the state of the agent, returns a random new state and a reward (+1 if the action is correct, -1 otherwise)."
   ]
  },
  {
   "cell_type": "code",
   "execution_count": 38,
   "metadata": {
    "collapsed": true
   },
   "outputs": [],
   "source": [
    "import random\n",
    "\n",
    "def environnement(a,s):\n",
    "    return(random.randint(0,1), (a==s)*2-1)"
   ]
  },
  {
   "cell_type": "markdown",
   "metadata": {},
   "source": [
    "This next function is the quantum channel, i.e. the memory of the agent. It takes as argument the unitary U and the input of the channel the percept s. It then runs a measurement on the action qubit."
   ]
  },
  {
   "cell_type": "code",
   "execution_count": 39,
   "metadata": {
    "collapsed": true
   },
   "outputs": [],
   "source": [
    "def agent_round(U, s):\n",
    "    s_register = 0\n",
    "    a_register = 1\n",
    "\n",
    "    p = pq.Program()\n",
    "\n",
    "    p.defgate(\"U\", U)\n",
    "    p.inst(H(1))\n",
    "    if s:\n",
    "        p.inst(X(0))\n",
    "    p.inst((\"U\",0,1))\n",
    "\n",
    "    p.measure(1, a_register)\n",
    "\n",
    "    result = qvm.run(p, [a_register])[0][0]\n",
    "    return(result)"
   ]
  },
  {
   "cell_type": "markdown",
   "metadata": {},
   "source": [
    "These are all the auxiliary functions we need to generate and update U at eah episode."
   ]
  },
  {
   "cell_type": "code",
   "execution_count": 40,
   "metadata": {
    "collapsed": true
   },
   "outputs": [],
   "source": [
    "from numpy import linalg as LA\n",
    "\n",
    "def update_h(h, alpha, r, U, Uk1, a, H12, old_s):\n",
    "    proj_a = np.zeros((2,2))\n",
    "    proj_a[a][a] = 1\n",
    "    pi_a = np.kron(np.eye(2), proj_a)\n",
    "    proj_s = np.zeros((2,2))\n",
    "    proj_s[old_s][old_s] = 1\n",
    "    rho = np.kron(proj_s,np.ones((2,2))/2)\n",
    "    temp = np.dot(rho,np.dot(U.conjugate().transpose(),np.dot(pi_a,U)))\n",
    "    for k in range(len(h)):\n",
    "        Hk = np.dot(np.dot(Uk1[k].conjugate().transpose(),H12[k%2]),Uk1[k])\n",
    "        trace = np.trace(np.dot(temp,Hk))\n",
    "        delta_k = 2*trace.imag\n",
    "        h[k] = h[k]+alpha*r*delta_k\n",
    "    return(h)\n",
    "\n",
    "def hermitian(M):\n",
    "    return((M+M.conjugate().transpose())/2)\n",
    "\n",
    "def decompose(H):\n",
    "    w, v = LA.eig(H)\n",
    "    projs = []\n",
    "    for i in range(len(w)):\t\n",
    "        proj = np.outer(v[:,i].conjugate(),v[:,i])\n",
    "        projs+=[[w[i],proj]]\n",
    "    return(projs)\n",
    "\n",
    "def exponentiate(h_j, projs):\n",
    "    expH = np.zeros(projs[0][1].shape,dtype='complex128')\n",
    "    for proj in projs:\n",
    "        expH+=np.exp(-h_j*1.0j*proj[0])*proj[1]\n",
    "    return(expH)"
   ]
  },
  {
   "cell_type": "markdown",
   "metadata": {},
   "source": [
    "Finally the main function running the episodes and dealing with the interactions between the agent and the environnement."
   ]
  },
  {
   "cell_type": "code",
   "execution_count": 58,
   "metadata": {
    "collapsed": true
   },
   "outputs": [],
   "source": [
    "def invasion_game(alpha, rounds, nb_param, rev_enable):\n",
    "    h = np.zeros(nb_param)\n",
    "    H1 = hermitian(np.random.rand(4,4)+1.0j*np.random.rand(4,4))\n",
    "    H2 = hermitian(np.random.rand(4,4)+1.0j*np.random.rand(4,4))\n",
    "    H12 = [H1,H2]\n",
    "    projs1 = decompose(H1)\n",
    "    projs2 = decompose(H2)\n",
    "    projs12 = [projs1,projs2]\n",
    "    s = 0\n",
    "    r_list = []\n",
    "    for i in range(rounds):\n",
    "        U = np.eye(4)\n",
    "        Uk1 = []\n",
    "        for j in range(nb_param):\n",
    "            h_j = h[j]\n",
    "            expH = exponentiate(h_j,projs12[j%2])\n",
    "            U = np.dot(expH,U)\n",
    "            Uk1 += [U]\n",
    "        a = agent_round(U,s)\n",
    "        old_s = s\n",
    "        s,r = environnement(a,s)\n",
    "        if rev_enable and i>rounds/2:\n",
    "            r=-r\n",
    "        r_list += [r]\n",
    "        h = update_h(h, alpha, r, U, Uk1, a, H12, old_s)\n",
    "        if i%100==0:\n",
    "            print(h)\n",
    "            #print(U)\n",
    "            print(i,np.mean(r_list[-100:]))\n",
    "    print(U)\n",
    "    return(r_list)"
   ]
  },
  {
   "cell_type": "code",
   "execution_count": 42,
   "metadata": {
    "collapsed": false,
    "scrolled": true
   },
   "outputs": [
    {
     "name": "stdout",
     "output_type": "stream",
     "text": [
      "[ 0.00033957 -0.00074635  0.00033957 -0.00074635  0.00033957 -0.00074635\n",
      "  0.00033957 -0.00074635  0.00033957 -0.00074635  0.00033957 -0.00074635\n",
      "  0.00033957 -0.00074635  0.00033957 -0.00074635]\n",
      "0 -1.0\n",
      "[ 0.30865778  0.25263747  0.23075975  0.18599241  0.16820732  0.12110576\n",
      "  0.13034885  0.07283222  0.11021702  0.03919473  0.10041659  0.01541411\n",
      "  0.09606662 -0.00231131  0.09424668 -0.01649769]\n",
      "100 0.06\n",
      "[ 0.57704861  0.37741482  0.23895708  0.15678391  0.11650888  0.05513374\n",
      "  0.09655632  0.0010383   0.11649788 -0.03518747  0.15184087 -0.06864703\n",
      "  0.18899152 -0.10839767  0.21568372 -0.15805496]\n",
      "200 0.5\n",
      "[ 0.7340387   0.29887618  0.19847812  0.08229564  0.053424    0.01193173\n",
      "  0.05314714 -0.01737821  0.11962144 -0.02803851  0.23435147 -0.04865455\n",
      "  0.36526763 -0.1356283   0.41638212 -0.30387756]\n",
      "300 0.22\n",
      "[ 0.79433472  0.27076905  0.1110783   0.05541017 -0.05819693 -0.01310371\n",
      " -0.05631726 -0.0351935   0.02559913 -0.02532416  0.18487114  0.00418506\n",
      "  0.47823433 -0.01758803  0.67507953 -0.31514914]\n",
      "400 0.24\n",
      "[ 0.82552976  0.29191862  0.01371409  0.05570023 -0.1634019  -0.00454636\n",
      " -0.13559848 -0.00114243 -0.03876521  0.01619898  0.09710236  0.02114637\n",
      "  0.42648807  0.04581954  0.93566756 -0.28631191]\n",
      "500 0.26\n",
      "[ 0.86992201  0.29518935 -0.0599387   0.04329002 -0.22175834  0.0044703\n",
      " -0.14876449  0.03269962 -0.04532659  0.04239241  0.05060289  0.01882202\n",
      "  0.32131403  0.02292437  1.18992819 -0.32934804]\n",
      "600 0.22\n",
      "[ 0.91281793  0.28113243 -0.12215327  0.01900982 -0.24621992  0.0070888\n",
      " -0.12964527  0.04680474 -0.03322316  0.04025596  0.02820365  0.00202496\n",
      "  0.22944622 -0.02016548  1.4564581  -0.39127647]\n",
      "700 0.3\n",
      "[ 0.90884307  0.28483171 -0.21632023  0.01210584 -0.27491569  0.03090936\n",
      " -0.12252798  0.07012696 -0.0404117   0.04604044 -0.00368173  0.003678\n",
      "  0.13939522 -0.03190866  1.71032736 -0.40381772]\n",
      "800 0.06\n",
      "[ 0.8673735   0.2946177  -0.3416794   0.00943354 -0.289953    0.06660209\n",
      " -0.10844767  0.09131974 -0.0430614   0.04840087 -0.02093523  0.00734613\n",
      "  0.0744005  -0.03141773  1.9311173  -0.43823728]\n",
      "900 -0.02\n",
      "[ 0.78480397  0.19889751 -0.42366933 -0.00544341 -0.27523439  0.12365479\n",
      " -0.08363541  0.13126862 -0.02715458  0.07019164 -0.01182993  0.02644231\n",
      "  0.05833885 -0.01906388  2.12677343 -0.50400142]\n",
      "1000 0.16\n",
      "[ 0.55782862  0.10534623 -0.54657923  0.10463623 -0.36781417  0.28669718\n",
      " -0.17098923  0.25906042 -0.11363162  0.16080868 -0.10141779  0.09684035\n",
      " -0.04564207  0.03913438  2.18376857 -0.57149017]\n",
      "1100 -0.06\n",
      "[ 0.43146972  0.12913239 -0.57579231  0.19288706 -0.46000408  0.3910648\n",
      " -0.28724752  0.37398041 -0.22483609  0.26994527 -0.21298654  0.1924204\n",
      " -0.15371822  0.12172158  2.12978169 -0.58958089]\n",
      "1200 0.22\n",
      "[ 0.41164429  0.20479098 -0.52409159  0.21516342 -0.42052758  0.40337311\n",
      " -0.30384179  0.39444076 -0.26746912  0.29568023 -0.26187372  0.21953106\n",
      " -0.19005529  0.14603427  2.16844218 -0.63728321]\n",
      "1300 -0.04\n",
      "[ 0.46552762  0.19718984 -0.42471441  0.1768031  -0.32513255  0.35505853\n",
      " -0.29053531  0.35656285 -0.30767529  0.27765159 -0.30526903  0.22549148\n",
      " -0.19788912  0.16817665  2.26788899 -0.81579214]\n",
      "1400 -0.08\n",
      "[ 0.41367206  0.16915203 -0.41327794  0.14106651 -0.31207584  0.29959518\n",
      " -0.3471242   0.32452632 -0.40555264  0.30522534 -0.39418583  0.31289571\n",
      " -0.22498249  0.28582882  2.4023362  -0.89389257]\n",
      "1500 0.12\n",
      "[ 0.53795656  0.29620694 -0.3299807   0.19721587 -0.28027179  0.26331867\n",
      " -0.42088488  0.23005798 -0.54536112  0.2153439  -0.50929093  0.30828844\n",
      " -0.22818287  0.36764285  2.54413647 -0.978729  ]\n",
      "1600 0.18\n",
      "[ 0.58403518  0.14377082 -0.28467561  0.0622913  -0.2221295   0.11951027\n",
      " -0.37341643  0.12789058 -0.53600024  0.15283539 -0.51334429  0.29446751\n",
      " -0.19841175  0.45563245  2.68625074 -1.16827672]\n",
      "1700 0.56\n",
      "[ 0.53813539 -0.0287251  -0.24102514 -0.01356477 -0.12888557  0.07688154\n",
      " -0.25782371  0.15815618 -0.49424384  0.22603962 -0.56208309  0.29699209\n",
      " -0.28470498  0.52479653  2.68876063 -1.3256382 ]\n",
      "1800 0.4\n",
      "[ 0.45579247 -0.03368071 -0.20726826  0.04612472 -0.0688773   0.12484575\n",
      " -0.18597374  0.20114376 -0.48386178  0.32056354 -0.68446006  0.37584857\n",
      " -0.42307076  0.63700453  2.70951097 -1.45023251]\n",
      "1900 0.48\n",
      "[ 0.42819616  0.01761372 -0.15290353  0.10631909 -0.02658517  0.14354079\n",
      " -0.15133256  0.17659306 -0.46929536  0.31241227 -0.81999822  0.42464653\n",
      " -0.53118971  0.76556155  2.83192354 -1.6379175 ]\n",
      "2000 0.7\n",
      "[ 0.4326543   0.0406783  -0.11816157  0.11236822 -0.02553606  0.10076447\n",
      " -0.15564858  0.10785649 -0.44902696  0.26471037 -0.85949719  0.45261102\n",
      " -0.52806255  0.85921983  2.95482908 -1.81900775]\n",
      "2100 0.72\n",
      "[ 0.44175179  0.02017201 -0.08906621  0.08075347 -0.01553649  0.04535312\n",
      " -0.12965144  0.05898717 -0.39044907  0.25513241 -0.87452036  0.48528514\n",
      " -0.54230527  0.91281721  2.9992078  -1.97057091]\n",
      "2200 0.84\n",
      "[ 0.44143552  0.03255303 -0.07595724  0.08252789 -0.01740558  0.036436\n",
      " -0.11434892  0.05743654 -0.34090289  0.25805562 -0.90281111  0.50909736\n",
      " -0.57222183  0.95348854  3.03003386 -2.0934335 ]\n",
      "2300 0.86\n",
      "[ 0.43472967  0.04298111 -0.07579465  0.0805515  -0.02915769  0.02797247\n",
      " -0.11213399  0.05196444 -0.30745525  0.24418223 -0.9161948   0.5309349\n",
      " -0.57891403  0.98884446  3.06537724 -2.18544415]\n",
      "2400 0.94\n",
      "[ 0.41491069  0.09237224 -0.09607989  0.11137514 -0.06290685  0.05162514\n",
      " -0.13539594  0.07286765 -0.30424625  0.23757665 -0.91765442  0.54091768\n",
      " -0.55077857  0.99263718  3.08805699 -2.24432862]\n",
      "2500 0.94\n",
      "[ 0.39846186  0.11151241 -0.11439821  0.11577844 -0.08837873  0.05170741\n",
      " -0.15184373  0.07214582 -0.30036672  0.22489043 -0.89831073  0.55851081\n",
      " -0.50311019  0.99294047  3.10690499 -2.27626875]\n",
      "2600 0.94\n",
      "[ 0.37729325  0.1505135  -0.1416094   0.13709789 -0.12350704  0.06804539\n",
      " -0.1788789   0.08550325 -0.30929591  0.22050117 -0.8797288   0.56855377\n",
      " -0.44660366  0.97714652  3.1138003  -2.29132236]\n",
      "2700 0.94\n",
      "[ 0.35292032  0.20293723 -0.17893774  0.16451536 -0.17059587  0.08785267\n",
      " -0.21658593  0.10036772 -0.32617602  0.21741104 -0.85328381  0.58325705\n",
      " -0.36700095  0.94936249  3.11133143 -2.29324357]\n",
      "2800 0.88\n",
      "[ 0.32395106  0.24879588 -0.22341794  0.1863864  -0.22173547  0.10263551\n",
      " -0.25635081  0.11162536 -0.34108028  0.21807726 -0.815394    0.60889\n",
      " -0.27652339  0.91413828  3.10126497 -2.27579092]\n",
      "2900 0.92\n",
      "[ 0.28799513  0.29394085 -0.27584983  0.21012348 -0.27728037  0.11866814\n",
      " -0.2964797   0.12429982 -0.34924076  0.22377745 -0.77044656  0.64356989\n",
      " -0.18214343  0.86897872  3.07877719 -2.23492021]\n",
      "3000 0.88\n",
      "[ 0.25708446  0.35362704 -0.33609022  0.24020977 -0.34226651  0.13665435\n",
      " -0.34068428  0.13690968 -0.35653536  0.2312303  -0.73444879  0.68390528\n",
      " -0.08704945  0.82001969  3.05328577 -2.19510377]\n",
      "3100 0.92\n",
      "[ 0.21545176  0.40988428 -0.40487504  0.2706423  -0.40661999  0.15254061\n",
      " -0.37269435  0.14887376 -0.34594615  0.24101918 -0.69865761  0.73388503\n",
      "  0.00560897  0.75930345  3.01307532 -2.13331233]\n",
      "3200 0.9\n",
      "[ 0.1874969   0.47235339 -0.47791971  0.30061278 -0.47240743  0.16471118\n",
      " -0.39819223  0.16088557 -0.3295869   0.2571827  -0.67789703  0.7983239\n",
      "  0.08755584  0.69218449  2.98815618 -2.09810339]\n",
      "3300 0.84\n",
      "[ 0.15852048  0.53729974 -0.55853568  0.3325728  -0.53259738  0.17526357\n",
      " -0.40895967  0.17540506 -0.30251638  0.27744579 -0.67061851  0.87712183\n",
      "  0.16007986  0.61218504  2.96484683 -2.06358048]\n",
      "3400 0.8\n",
      "[ 0.13073411  0.60821361 -0.64299848  0.36756532 -0.58240399  0.18165528\n",
      " -0.40791207  0.18750756 -0.27221086  0.29588656 -0.68438005  0.96642829\n",
      "  0.22277996  0.52794366  2.95234109 -2.03024409]\n",
      "3500 0.94\n",
      "[ 0.11212793  0.69305244 -0.74521131  0.407686   -0.63025936  0.19152418\n",
      " -0.40254126  0.21396426 -0.23936584  0.33751897 -0.72666077  1.08660635\n",
      "  0.27292544  0.42356697  2.97149705 -2.03097921]\n",
      "3600 0.76\n",
      "[ 0.08125943  0.80140955 -0.85871652  0.46272358 -0.6670591   0.20733115\n",
      " -0.39710001  0.24454802 -0.21345559  0.38635158 -0.81095027  1.21858865\n",
      "  0.32834825  0.32523453  3.02142718 -2.03135644]\n",
      "3700 0.78\n",
      "[ 0.00931421  0.93568075 -0.94343064  0.5273677  -0.68980508  0.2094222\n",
      " -0.40708201  0.24280585 -0.2157759   0.40435251 -0.92545229  1.33946116\n",
      "  0.41335409  0.29627242  3.11094464 -1.99603382]\n",
      "3800 0.72\n",
      "[-0.02293467  1.09674998 -0.99604689  0.64023049 -0.71799359  0.25519227\n",
      " -0.43948034  0.27978029 -0.23429117  0.46524003 -1.00798801  1.40845767\n",
      "  0.50989195  0.19539807  3.22441883 -2.03915035]\n",
      "3900 0.76\n",
      "[-0.04642063  1.20941987 -1.01587318  0.70420878 -0.75575823  0.26897104\n",
      " -0.48618181  0.2906472  -0.25556845  0.50150186 -1.01265951  1.44634375\n",
      "  0.60255766  0.12418671  3.30279907 -2.03530986]\n",
      "4000 0.88\n",
      "[-0.05136901  1.25172309 -1.0301407   0.72206404 -0.77790732  0.2805429\n",
      " -0.51614675  0.31010485 -0.26760491  0.53155838 -0.99816392  1.45328705\n",
      "  0.65735264  0.03128897  3.31765243 -2.00948956]\n",
      "4100 0.96\n",
      "[-0.05877808  1.27675965 -1.03862176  0.72833037 -0.79067562  0.2849288\n",
      " -0.53687609  0.32189232 -0.27480024  0.55326941 -0.98126682  1.46410339\n",
      "  0.70142835 -0.03134378  3.32863885 -1.98708052]\n",
      "4200 0.98\n",
      "[-0.06508589  1.28283139 -1.04861685  0.72484721 -0.80093157  0.28998916\n",
      " -0.54958924  0.33778434 -0.27594219  0.57147633 -0.96245283  1.46442679\n",
      "  0.72337784 -0.07386936  3.33199819 -1.98189884]\n",
      "4300 0.98\n",
      "[-0.06757291  1.28871506 -1.05424964  0.72535868 -0.80816882  0.29276963\n",
      " -0.55957945  0.34541545 -0.27832629  0.5821372  -0.95194157  1.46895898\n",
      "  0.74035608 -0.09790013  3.33658316 -1.97580465]\n",
      "4400 1.0\n",
      "[-0.06799009  1.29119171 -1.05788727  0.72591719 -0.81225678  0.29519443\n",
      " -0.56575617  0.35037143 -0.28028653  0.58874122 -0.94680728  1.47225566\n",
      "  0.75047338 -0.11272064  3.33870518 -1.97047591]\n",
      "4500 1.0\n",
      "[-0.06746611  1.29324896 -1.06007541  0.72774846 -0.81494944  0.29706674\n",
      " -0.56991975  0.35292276 -0.28196306  0.59264069 -0.9448914   1.47607619\n",
      "  0.75767794 -0.12012495  3.34132172 -1.96633368]\n",
      "4600 1.0\n",
      "[-0.06727801  1.29301478 -1.06276498  0.72822362 -0.81762015  0.29912529\n",
      " -0.57252114  0.35646254 -0.28227116  0.59583881 -0.94266874  1.47709172\n",
      "  0.76105431 -0.1250355   3.34277426 -1.96600448]\n",
      "4700 1.0\n",
      "[-0.06622926  1.29331876 -1.06463779  0.72995861 -0.81986541  0.3007844\n",
      " -0.57461307  0.35827815 -0.28290827  0.5975793  -0.94248391  1.47908077\n",
      "  0.76375345 -0.12642411  3.34485683 -1.96545991]\n",
      "4800 1.0\n",
      "[-0.06486482  1.29308333 -1.06619708  0.73157592 -0.82160084  0.3023711\n",
      " -0.57594739  0.35975318 -0.2833516   0.59864973 -0.94309148  1.48050601\n",
      "  0.76510244 -0.12654842  3.34636651 -1.96534037]\n",
      "4900 1.0\n",
      "[[  7.40936295e-01-0.40314097j   1.39823165e-01-0.08564669j\n",
      "   -2.59226896e-01-0.25148725j   2.56674936e-01+0.25549647j]\n",
      " [  1.50324098e-01-0.46638129j  -1.55760847e-01+0.46693618j\n",
      "    2.56378582e-01-0.07986096j  -6.62239727e-01-0.0832533j ]\n",
      " [ -1.42917963e-01-0.05507981j  -7.58659149e-01-0.36022007j\n",
      "    4.87714402e-02-0.36505877j  -5.21165279e-02+0.36449386j]\n",
      " [  4.06959330e-04-0.15786837j  -1.37850784e-03+0.15968463j\n",
      "    8.13461107e-01-0.00907191j   5.29019786e-01+0.08895573j]]\n"
     ]
    }
   ],
   "source": [
    "rewards = invasion_game(0.01, 5000, 16, False)"
   ]
  },
  {
   "cell_type": "code",
   "execution_count": 65,
   "metadata": {
    "collapsed": false
   },
   "outputs": [
    {
     "data": {
      "image/png": "[encoded data removed]",
      "text/plain": [
       "<matplotlib.figure.Figure at 0x9c7f438>"
      ]
     },
     "metadata": {},
     "output_type": "display_data"
    }
   ],
   "source": [
    "import matplotlib.pyplot as plt\n",
    "\n",
    "e = [i for i in range(0,5001,50)]\n",
    "m_rew = [0]+[np.mean(rewards[e[i]-50:e[i]]) for i in range(1,len(e))]\n",
    "plt.figure(figsize=(15,8))\n",
    "plt.plot(e, m_rew)\n",
    "\n",
    "plt.xlabel('Episodes')\n",
    "plt.ylabel('Average last 100 rewards')\n",
    "plt.title('Learning rate: 0.01, Number controls: 16')\n",
    "plt.grid(True)\n",
    "plt.show()"
   ]
  },
  {
   "cell_type": "markdown",
   "metadata": {},
   "source": [
    "Our agent successfully learned how to mimic the environment in less than 3000 episodes and asymptotically achieved perfect learning at about 4500 episodes."
   ]
  },
  {
   "cell_type": "code",
   "execution_count": 59,
   "metadata": {
    "collapsed": false,
    "scrolled": true
   },
   "outputs": [
    {
     "name": "stdout",
     "output_type": "stream",
     "text": [
      "[ 0.00158856 -0.00102901  0.00158856 -0.00102901  0.00158856 -0.00102901\n",
      "  0.00158856 -0.00102901  0.00158856 -0.00102901  0.00158856 -0.00102901\n",
      "  0.00158856 -0.00102901  0.00158856 -0.00102901]\n",
      "0 -1.0\n",
      "[ 0.26945172 -0.19354404  0.2023013  -0.23305741  0.13555969 -0.24326832\n",
      "  0.0717667  -0.2228556   0.01165248 -0.18070847 -0.04463423 -0.13216135\n",
      " -0.09752424 -0.09187899 -0.14527327 -0.06963195]\n",
      "100 0.1\n",
      "[ 0.6477016  -0.04802401  0.39512887 -0.25805282  0.21953894 -0.36964144\n",
      "  0.09951098 -0.38047308  0.00746392 -0.29953328 -0.08571611 -0.17960959\n",
      " -0.20871532 -0.09100999 -0.35923012 -0.09872742]\n",
      "200 0.52\n",
      "[ 0.75405207  0.02201752  0.35406241 -0.27789916  0.16028468 -0.41150603\n",
      "  0.06330564 -0.40944652  0.01788867 -0.29674956 -0.04387605 -0.14069368\n",
      " -0.18949547 -0.02785898 -0.46795543 -0.09053575]\n",
      "300 0.88\n",
      "[ 0.82295674  0.05379887  0.30421463 -0.30041734  0.11751703 -0.44112605\n",
      "  0.06294824 -0.42605737  0.05808066 -0.29682452  0.0129932  -0.12410772\n",
      " -0.14898564  0.00836543 -0.58917329 -0.09740893]\n",
      "400 0.92\n",
      "[ 0.87612062  0.07881913  0.26516605 -0.3228664   0.08849864 -0.46409043\n",
      "  0.06895635 -0.42779117  0.08888416 -0.28449064  0.0544494  -0.10457469\n",
      " -0.10956183  0.04258569 -0.70229235 -0.09932551]\n",
      "500 0.9\n",
      "[ 0.91567392  0.0944373   0.22964202 -0.34283994  0.07195752 -0.47960661\n",
      "  0.0871165  -0.4259309   0.12040379 -0.27852358  0.0877318  -0.10135173\n",
      " -0.07264887  0.05465101 -0.81805823 -0.10516283]\n",
      "600 0.9\n",
      "[ 0.94414062  0.10709515  0.19489147 -0.35416542  0.0658085  -0.48226651\n",
      "  0.11540701 -0.42164799  0.15380939 -0.28341657  0.11527688 -0.11737826\n",
      " -0.03757035  0.04348787 -0.93737977 -0.11650643]\n",
      "700 0.86\n",
      "[ 0.96749845  0.12348216  0.16620486 -0.35994505  0.06025661 -0.46777963\n",
      "  0.13421379 -0.39907236  0.1760956  -0.27355126  0.13336787 -0.12231784\n",
      " -0.01074862  0.0389401  -1.03739216 -0.11789083]\n",
      "800 0.84\n",
      "[ 0.9782792   0.1327173   0.13450031 -0.3654361   0.0509029  -0.44577312\n",
      "  0.14504852 -0.37221582  0.18757815 -0.26345023  0.13967064 -0.12921709\n",
      "  0.00325219  0.02963243 -1.12389411 -0.11591353]\n",
      "900 0.86\n",
      "[ 0.9822788   0.14025627  0.10144308 -0.35981805  0.05044097 -0.41506901\n",
      "  0.16469327 -0.3468794   0.20152362 -0.26068161  0.14511607 -0.1443301\n",
      "  0.01672046  0.01202004 -1.20593033 -0.11243545]\n",
      "1000 0.84\n",
      "[ 0.97888177  0.1438798   0.06692529 -0.34850251  0.04970225 -0.3780611\n",
      "  0.1790846  -0.318758    0.20851518 -0.2552507   0.14588939 -0.1555631\n",
      "  0.02592786 -0.00237584 -1.27505072 -0.10388063]\n",
      "1100 0.9\n",
      "[ 0.96976792  0.14198693  0.03321005 -0.33393598  0.04905087 -0.33995675\n",
      "  0.18761286 -0.29175182  0.20815532 -0.24918055  0.14126579 -0.16396869\n",
      "  0.0297048  -0.01413672 -1.32962455 -0.08764367]\n",
      "1200 0.86\n",
      "[  9.62068878e-01   1.42576589e-01   1.32487718e-03  -3.14540624e-01\n",
      "   5.68083520e-02  -3.07491145e-01   1.96957211e-01  -2.73375433e-01\n",
      "   2.05871048e-01  -2.48618513e-01   1.37595107e-01  -1.75198156e-01\n",
      "   3.69804718e-02  -2.81511449e-02  -1.38173566e+00  -6.79646439e-02]\n",
      "1300 0.96\n",
      "[ 0.95508329  0.14708794 -0.03016465 -0.2931575   0.06749867 -0.2814518\n",
      "  0.2028454  -0.26147333  0.20134303 -0.25082797  0.13634718 -0.18767385\n",
      "  0.04891298 -0.04367863 -1.43173507 -0.0440273 ]\n",
      "1400 0.94\n",
      "[ 0.94394457  0.14383784 -0.05959432 -0.27778444  0.07038523 -0.2614981\n",
      "  0.1984731  -0.25077428  0.19033313 -0.24818781  0.13094747 -0.19176031\n",
      "  0.05531447 -0.0504076  -1.46619672 -0.01078515]\n",
      "1500 0.9\n",
      "[ 0.942732    0.14989735 -0.08022117 -0.26229506  0.08139599 -0.24845838\n",
      "  0.19741307 -0.24765365  0.1831264  -0.25300378  0.13077022 -0.20449289\n",
      "  0.06652527 -0.06611937 -1.50643485  0.01946339]\n",
      "1600 0.94\n",
      "[ 0.94600138  0.15801661 -0.09400155 -0.24627487  0.09265285 -0.23461219\n",
      "  0.19736097 -0.24043348  0.18011052 -0.25104604  0.13565187 -0.20932857\n",
      "  0.08127461 -0.0735493  -1.53676522  0.05565228]\n",
      "1700 0.84\n",
      "[ 0.94988397  0.16948663 -0.10994503 -0.23355971  0.10045113 -0.22627943\n",
      "  0.19454225 -0.23764469  0.17774429 -0.25344786  0.14350615 -0.21971576\n",
      "  0.09907052 -0.08694602 -1.57191403  0.08557639]\n",
      "1800 0.74\n",
      "[ 0.95149914  0.17505647 -0.12517062 -0.22369821  0.1027121  -0.21736101\n",
      "  0.18910584 -0.23014391  0.17438674 -0.2472157   0.14925784 -0.21792402\n",
      "  0.11292167 -0.08599782 -1.59179367  0.12613139]\n",
      "1900 0.92\n",
      "[ 0.95991417  0.18414978 -0.13400105 -0.21664363  0.10908096 -0.21378763\n",
      "  0.18668015 -0.22977429  0.17270833 -0.25047297  0.15397703 -0.22747529\n",
      "  0.12274269 -0.09634607 -1.61754188  0.15841816]\n",
      "2000 0.84\n",
      "[ 0.96520155  0.19149414 -0.14843604 -0.21455709  0.10893526 -0.21484827\n",
      "  0.17979245 -0.23267772  0.16890558 -0.25622727  0.15807798 -0.23911299\n",
      "  0.13286864 -0.10801979 -1.64517231  0.18376498]\n",
      "2100 0.92\n",
      "[ 0.97438847  0.19927656 -0.15766496 -0.21043771  0.11136698 -0.21246075\n",
      "  0.17679101 -0.23120691  0.16823746 -0.25673967  0.16292867 -0.24426629\n",
      "  0.14163657 -0.1117806  -1.66381842  0.21555563]\n",
      "2200 0.82\n",
      "[ 0.98337646  0.20999982 -0.17173736 -0.20722842  0.11023875 -0.21110923\n",
      "  0.17252836 -0.23049549  0.16861126 -0.25846632  0.17060726 -0.25151224\n",
      "  0.15453798 -0.1176966  -1.68518335  0.2400808 ]\n",
      "2300 0.88\n",
      "[ 0.9954342   0.22099937 -0.18290282 -0.2043956   0.11076752 -0.20994597\n",
      "  0.17008617 -0.23016451  0.16934541 -0.26062606  0.17630524 -0.25857776\n",
      "  0.16373505 -0.12191562 -1.70374358  0.26507423]\n",
      "2400 0.88\n",
      "[ 1.00760146  0.23035916 -0.1942126  -0.20227554  0.11027643 -0.20846249\n",
      "  0.16754886 -0.22881786  0.16954919 -0.26101247  0.18031257 -0.26287386\n",
      "  0.17035804 -0.12201411 -1.71733509  0.29363001]\n",
      "2500 0.82\n",
      "[ 1.02077286  0.24238871 -0.21022495 -0.20497439  0.10675186 -0.21363247\n",
      "  0.16253182 -0.23580857  0.16754711 -0.27199755  0.18211876 -0.28004506\n",
      "  0.17479647 -0.13528278 -1.74087071  0.30555095]\n",
      "2600 0.9\n",
      "[ 1.03744988  0.25765321 -0.22525104 -0.20121892  0.10490559 -0.21009824\n",
      "  0.16154679 -0.2322172   0.1708481  -0.27053819  0.19019531 -0.28338886\n",
      "  0.18642266 -0.13391463 -1.7530644   0.32849837]\n",
      "2700 0.86\n",
      "[ 1.05495815  0.27347146 -0.24319229 -0.19871841  0.1010942  -0.2077679\n",
      "  0.15927003 -0.23005538  0.17246843 -0.27075234  0.1958592  -0.28842598\n",
      "  0.19520942 -0.13318124 -1.7652848   0.3502028 ]\n",
      "2800 0.86\n",
      "[ 1.07565712  0.29235174 -0.2651955  -0.20024047  0.09502741 -0.21097447\n",
      "  0.1548854  -0.23483665  0.17150488 -0.27957411  0.19846842 -0.30370166\n",
      "  0.20084909 -0.14246124 -1.78502125  0.35814201]\n",
      "2900 0.94\n",
      "[ 1.09843688  0.31474626 -0.29499803 -0.20095968  0.08432913 -0.21278424\n",
      "  0.14820955 -0.23753719  0.17001445 -0.28575331  0.20268574 -0.31625674\n",
      "  0.21053434 -0.14856069 -1.80418117  0.36379364]\n",
      "3000 0.92\n",
      "[ 1.12818856  0.3398459  -0.32055519 -0.19652033  0.07786662 -0.20810964\n",
      "  0.1462505  -0.23293958  0.17224035 -0.28358123  0.20904492 -0.31914129\n",
      "  0.22102139 -0.14318219 -1.814347    0.38149928]\n",
      "3100 0.92\n",
      "[ 1.15859591  0.36260173 -0.35077828 -0.1972771   0.06733223 -0.20882749\n",
      "  0.14017486 -0.23394148  0.16929628 -0.28698815  0.20899248 -0.32707559\n",
      "  0.22437744 -0.14108703 -1.82718598  0.39531396]\n",
      "3200 0.84\n",
      "[ 1.19264674  0.38642896 -0.38430602 -0.19867387  0.05487068 -0.21007007\n",
      "  0.13315411 -0.2355032   0.16533574 -0.29113777  0.20736721 -0.33613137\n",
      "  0.22533163 -0.13972476 -1.84007543  0.40828373]\n",
      "3300 0.92\n",
      "[ 1.23541177  0.41623143 -0.42061532 -0.19617978  0.04286777 -0.20777622\n",
      "  0.12868043 -0.23390437  0.16495223 -0.29303315  0.20991312 -0.34486078\n",
      "  0.23032743 -0.13955702 -1.85345879  0.41683401]\n",
      "3400 0.92\n",
      "[ 1.27500151  0.43894103 -0.45312282 -0.19424164  0.03054651 -0.20373148\n",
      "  0.12335534 -0.22884205  0.1627124  -0.28922596  0.20919209 -0.34520874\n",
      "  0.23039747 -0.12971446 -1.85873845  0.44071318]\n",
      "3500 0.96\n",
      "[ 1.31530218  0.46024097 -0.49576246 -0.1960744   0.01136326 -0.20437607\n",
      "  0.11326588 -0.22902904  0.15700405 -0.29154165  0.20641589 -0.35333961\n",
      "  0.2295944  -0.12938115 -1.8695772   0.45239557]\n",
      "3600 0.88\n",
      "[ 1.36051533  0.48328104 -0.5400743  -0.1942535  -0.00677173 -0.2019528\n",
      "  0.10614874 -0.22693471  0.15493777 -0.29289315  0.20767576 -0.36286621\n",
      "  0.23282447 -0.13322505 -1.88088986  0.45879918]\n",
      "3700 0.82\n",
      "[ 1.40483621  0.50474778 -0.58395967 -0.18626745 -0.02345093 -0.19212813\n",
      "  0.10251982 -0.21702629  0.15790666 -0.28646607  0.21586934 -0.366199\n",
      "  0.24430258 -0.13501592 -1.88821412  0.46727159]\n",
      "3800 1.0\n",
      "[ 1.44223419  0.51802201 -0.62869474 -0.18317365 -0.04223507 -0.18643624\n",
      "  0.09584366 -0.2111637   0.15634115 -0.28366337  0.21882584 -0.37220497\n",
      "  0.25125532 -0.13984376 -1.89615375  0.474735  ]\n",
      "3900 0.92\n",
      "[ 1.47733324  0.52886946 -0.66675901 -0.17702864 -0.05675317 -0.17554695\n",
      "  0.09285507 -0.19950581  0.15778886 -0.27461337  0.22448505 -0.37180275\n",
      "  0.26063612 -0.14009257 -1.89958244  0.48942665]\n",
      "4000 0.92\n",
      "[ 1.51149626  0.53573705 -0.70442177 -0.17426426 -0.07087864 -0.16804564\n",
      "  0.08959578 -0.19182529  0.15764103 -0.27033224  0.22747812 -0.37695145\n",
      "  0.26670597 -0.1463895  -1.90329164  0.50170528]\n",
      "4100 0.86\n",
      "[ 1.54071269  0.53706802 -0.74162266 -0.17364423 -0.08545089 -0.16064322\n",
      "  0.08519467 -0.18362508  0.15593269 -0.26475741  0.22966769 -0.3800416\n",
      "  0.2734442  -0.15190018 -1.90513776  0.51583996]\n",
      "4200 0.92\n",
      "[ 1.57521813  0.53892525 -0.77569987 -0.1706428  -0.0941406  -0.15108245\n",
      "  0.08665121 -0.17438341  0.15930299 -0.25998387  0.23633519 -0.38711175\n",
      "  0.28360176 -0.16447782 -1.90528717  0.52622982]\n",
      "4300 0.92\n",
      "[ 1.60307366  0.53370458 -0.81324279 -0.17004075 -0.10396994 -0.14164531\n",
      "  0.08630974 -0.16506824  0.16065818 -0.25479936  0.24273507 -0.39398434\n",
      "  0.29634785 -0.18022984 -1.90432741  0.53478298]\n",
      "4400 0.92\n",
      "[ 1.63001124  0.52646813 -0.85013082 -0.17099445 -0.1126252  -0.13128526\n",
      "  0.08478576 -0.15476347  0.15889845 -0.24805163  0.24539103 -0.39785516\n",
      "  0.30631997 -0.19349262 -1.90305008  0.54725473]\n",
      "4500 0.88\n",
      "[ 1.6635492   0.51724449 -0.88805362 -0.17002227 -0.11528567 -0.12009581\n",
      "  0.08848446 -0.14507761  0.16167027 -0.24377856  0.2533015  -0.40818213\n",
      "  0.32259002 -0.21826414 -1.89965189  0.5513191 ]\n",
      "4600 0.92\n",
      "[ 1.6942607   0.50420663 -0.92829522 -0.16838361 -0.11839803 -0.10494156\n",
      "  0.08939981 -0.13108535  0.16073262 -0.23379779  0.25871199 -0.41074901\n",
      "  0.33955234 -0.23780904 -1.89481691  0.5615042 ]\n",
      "4700 0.88\n",
      "[ 1.73179973  0.4876888  -0.97061747 -0.17060008 -0.12065756 -0.0935541\n",
      "  0.08792541 -0.12107837  0.15516922 -0.22682578  0.25854561 -0.41391373\n",
      "  0.3531977  -0.25585382 -1.88923253  0.57182603]\n",
      "4800 0.86\n",
      "[ 1.77809611  0.46973527 -1.01297767 -0.16996427 -0.12079598 -0.07811881\n",
      "  0.08704155 -0.10691021  0.15013551 -0.21451097  0.2596445  -0.41045938\n",
      "  0.36998313 -0.26907007 -1.88027706  0.58707787]\n",
      "4900 0.94\n",
      "[ 1.83565628  0.44475687 -1.06161485 -0.17479271 -0.12320945 -0.0695369\n",
      "  0.08212905 -0.09951738  0.14049599 -0.20798692  0.25629928 -0.41133149\n",
      "  0.38561944 -0.28511731 -1.86955429  0.59811975]\n",
      "5000 0.9\n",
      "[ 1.53672553  0.16170691 -1.09995678 -0.28370627 -0.30505214 -0.14104094\n",
      " -0.09663896 -0.16334957  0.00916547 -0.26387587  0.21073512 -0.44436365\n",
      "  0.43209843 -0.24383892 -1.8374727   0.55027228]\n",
      "5100 0.24\n",
      "[ 1.44905023 -0.02664769 -1.04201873 -0.22031356 -0.31578926 -0.09646857\n",
      " -0.09396512 -0.15263083  0.04381801 -0.28698391  0.26867457 -0.49316572\n",
      "  0.48524257 -0.22980187 -1.82519535  0.49297011]\n",
      "5200 0.86\n",
      "[ 1.4367196  -0.14131217 -1.04359464 -0.15943844 -0.31274508 -0.07058719\n",
      " -0.07603523 -0.15482663  0.07507352 -0.31491733  0.30022348 -0.53662625\n",
      "  0.51048818 -0.23074998 -1.84752747  0.42563649]\n",
      "5300 0.98\n",
      "[ 1.44128654 -0.20541446 -1.06093936 -0.11372388 -0.3018313  -0.05484086\n",
      " -0.05501512 -0.15994187  0.0988002  -0.33881035  0.31806011 -0.56580162\n",
      "  0.52807932 -0.23006654 -1.87362773  0.36252036]\n",
      "5400 0.98\n",
      "[ 1.43874365 -0.2459698  -1.08054178 -0.0787072  -0.29018747 -0.04225346\n",
      " -0.03674756 -0.16238619  0.11621265 -0.3531295   0.33221378 -0.57638593\n",
      "  0.54994228 -0.22170778 -1.89352826  0.30416447]\n",
      "5500 0.98\n",
      "[ 1.41546768 -0.27916479 -1.09859902 -0.05195463 -0.28057707 -0.03347085\n",
      " -0.02349046 -0.16523162  0.12726062 -0.36219067  0.34478387 -0.57277472\n",
      "  0.5766515  -0.20636414 -1.90684856  0.24730432]\n",
      "5600 0.98\n",
      "[ 1.40151844 -0.30983817 -1.11835468 -0.02773506 -0.27218332 -0.03009614\n",
      " -0.01219912 -0.17416441  0.13343053 -0.37878995  0.34738893 -0.57654135\n",
      "  0.58695879 -0.19921207 -1.93311925  0.17920041]\n",
      "5700 0.94\n",
      "[  1.38214839e+00  -3.39681623e-01  -1.13070383e+00   7.98534707e-05\n",
      "  -2.62565023e-01  -2.46572803e-02  -1.21446362e-03  -1.80486491e-01\n",
      "   1.39791279e-01  -3.90982055e-01   3.53984997e-01  -5.70968618e-01\n",
      "   6.01864583e-01  -1.83429366e-01  -1.95233086e+00   1.13278399e-01]\n",
      "5800 0.92\n",
      "[ 1.39225243 -0.36089131 -1.13632784  0.037852   -0.24860772 -0.01348808\n",
      "  0.0131464  -0.18252856  0.14896328 -0.40297933  0.35986306 -0.568853\n",
      "  0.60748983 -0.16793256 -1.97472683  0.04921263]\n",
      "5900 0.9\n",
      "[ 1.39516878 -0.39358952 -1.15091917  0.06953772 -0.25175598 -0.01058693\n",
      "  0.00979222 -0.19181658  0.14333459 -0.41970597  0.35877191 -0.56418545\n",
      "  0.61455162 -0.14670699 -1.99020063 -0.01226492]\n",
      "6000 0.9\n",
      "[ 1.38164261 -0.42925031 -1.15239307  0.11053891 -0.25244282 -0.00312001\n",
      "  0.00875538 -0.19838565  0.14241861 -0.43415486  0.36919583 -0.54682374\n",
      "  0.63718374 -0.10982146 -1.99250344 -0.07189693]\n",
      "6100 0.94\n",
      "[ 1.39177452 -0.45735423 -1.14838083  0.15987597 -0.25479377  0.00880361\n",
      "  0.00557234 -0.20319474  0.14069616 -0.45317575  0.3775418  -0.53419843\n",
      "  0.65189423 -0.07535405 -1.99880371 -0.13215157]\n",
      "6200 0.9\n",
      "[ 1.40945196 -0.4873072  -1.14526731  0.20972763 -0.2688537   0.02043054\n",
      " -0.00968944 -0.20933073  0.13015596 -0.47635981  0.38162999 -0.52177906\n",
      "  0.66319301 -0.04256699 -2.00369355 -0.19342976]\n",
      "6300 0.86\n",
      "[ 1.44320356 -0.51404541 -1.13778574  0.26234063 -0.29024258  0.03635756\n",
      " -0.03260434 -0.21207311  0.11518701 -0.4998626   0.3836481  -0.50891379\n",
      "  0.66794597 -0.01383926 -2.00897569 -0.2562696 ]\n",
      "6400 0.88\n",
      "[ 1.47503256 -0.53980161 -1.11922649  0.31780449 -0.3126305   0.05639516\n",
      " -0.05625836 -0.21370876  0.10107322 -0.52695721  0.38771514 -0.49295059\n",
      "  0.67131591  0.01190699 -2.01348295 -0.32766252]\n",
      "6500 0.86\n",
      "[ 1.52347883 -0.56189491 -1.1012856   0.36545477 -0.34564396  0.07172984\n",
      " -0.08948343 -0.22108844  0.07878835 -0.56344265  0.38061031 -0.48470137\n",
      "  0.6553685   0.02075299 -2.02916827 -0.41198807]\n",
      "6600 0.88\n",
      "[ 1.56051611 -0.58477012 -1.08323472  0.40214016 -0.37696353  0.09104288\n",
      " -0.12075649 -0.21478694  0.06069265 -0.57368029  0.39043891 -0.44875615\n",
      "  0.65457476  0.04156638 -2.02044745 -0.49027606]\n",
      "6700 0.9\n",
      "[ 1.61883611 -0.59970725 -1.06319333  0.43239713 -0.40418207  0.10652786\n",
      " -0.14429809 -0.21338142  0.04884891 -0.59208126  0.39591631 -0.42404734\n",
      "  0.63837486  0.04778724 -2.02159204 -0.57453437]\n",
      "6800 0.88\n",
      "[ 1.63812055 -0.63635278 -1.05456239  0.44375735 -0.43624858  0.11717557\n",
      " -0.17572582 -0.20707386  0.03035663 -0.59240159  0.41768676 -0.37020665\n",
      "  0.64526054  0.06805957 -1.99416684 -0.66229919]\n",
      "6900 0.88\n",
      "[ 1.65719985 -0.67461391 -1.0346039   0.45715745 -0.4587986   0.13433067\n",
      " -0.20298075 -0.19573436  0.01620786 -0.59498303  0.44951264 -0.31216683\n",
      "  0.65957783  0.09135129 -1.95769014 -0.75092347]\n",
      "7000 0.92\n",
      "[  1.72321470e+00  -6.99771933e-01  -1.02177122e+00   4.64295138e-01\n",
      "  -4.87564964e-01   1.42766575e-01  -2.31390543e-01  -1.95341101e-01\n",
      "   1.57474426e-03  -6.15983513e-01   4.63396913e-01  -2.80911471e-01\n",
      "   6.44167258e-01   9.00388176e-02  -1.94396842e+00  -8.40168102e-01]\n",
      "7100 0.94\n",
      "[ 1.76055312 -0.72791599 -1.01005671  0.46609252 -0.50112549  0.1590735\n",
      " -0.24996214 -0.17765305 -0.00299113 -0.61382748  0.49938167 -0.23266337\n",
      "  0.6464842   0.10148304 -1.91100679 -0.92141645]\n",
      "7200 0.96\n",
      "[ 1.79630185 -0.75247997 -0.99891262  0.46562794 -0.50867209  0.17491186\n",
      " -0.2654081  -0.16017488 -0.0054743  -0.61454624  0.53468489 -0.19360071\n",
      "  0.64589148  0.10720698 -1.88098505 -0.99509121]\n",
      "7300 0.94\n",
      "[ 1.83942412 -0.77406923 -0.98944552  0.46215012 -0.52015431  0.18455467\n",
      " -0.28831049 -0.150656   -0.01528816 -0.62710405  0.55785811 -0.16814371\n",
      "  0.64091994  0.10478773 -1.85216933 -1.05519188]\n",
      "7400 0.94\n",
      "[ 1.86598668 -0.78948025 -0.98141653  0.45926816 -0.52272547  0.19692811\n",
      " -0.30236402 -0.1356138  -0.01823062 -0.63112438  0.58555208 -0.14580355\n",
      "  0.63533836  0.10145671 -1.82699825 -1.10915218]\n",
      "7500 0.96\n",
      "[ 1.88819665 -0.8044522  -0.97462895  0.45308048 -0.53026237  0.20183088\n",
      " -0.32546276 -0.12959925 -0.03072793 -0.64563003  0.60107352 -0.13432923\n",
      "  0.63260428  0.09408313 -1.79989741 -1.14609794]\n",
      "7600 1.0\n",
      "[ 1.90122699 -0.80825947 -0.96654986  0.45254335 -0.52948667  0.2120114\n",
      " -0.33722843 -0.1167967  -0.03354608 -0.6506144   0.61944639 -0.12510384\n",
      "  0.62810362  0.08857087 -1.77735687 -1.17456579]\n",
      "7700 1.0\n",
      "[ 1.90859345 -0.80851602 -0.9619636   0.45187442 -0.52851916  0.22115874\n",
      " -0.34621732 -0.10411667 -0.03496393 -0.6525167   0.63622445 -0.11945023\n",
      "  0.61923641  0.08051947 -1.76035992 -1.20162683]\n",
      "7800 1.0\n",
      "[ 1.91284698 -0.80624451 -0.95890824  0.45152832 -0.52729089  0.22953857\n",
      " -0.35342414 -0.09188007 -0.03573388 -0.6527378   0.65095396 -0.11625779\n",
      "  0.60843602  0.07171041 -1.74616412 -1.22597159]\n",
      "7900 1.0\n",
      "[ 1.91516903 -0.8044828  -0.95335814  0.4508906  -0.52781632  0.23504689\n",
      " -0.36585341 -0.08399087 -0.04208349 -0.65820475  0.66009119 -0.11547907\n",
      "  0.60319777  0.06362923 -1.72707324 -1.24111155]\n",
      "8000 1.0\n",
      "[ 1.91463548 -0.79750443 -0.94988743  0.45230695 -0.52708828  0.24173752\n",
      " -0.37303977 -0.07422025 -0.04404104 -0.65912416  0.66852235 -0.11697957\n",
      "  0.59416256  0.05524593 -1.71334316 -1.25333358]\n",
      "8100 1.0\n",
      "[ 1.911748   -0.79198213 -0.94763975  0.4524287  -0.52759308  0.24647441\n",
      " -0.38137772 -0.06641147 -0.04790295 -0.66055482  0.67501731 -0.11884549\n",
      "  0.58625544  0.0470027  -1.69996249 -1.26429897]\n",
      "8200 1.0\n",
      "[ 1.90955075 -0.78670636 -0.94059443  0.4536414  -0.52824861  0.25029451\n",
      " -0.39430856 -0.06124664 -0.05630129 -0.66669343  0.67772834 -0.12069636\n",
      "  0.58508708  0.04100999 -1.67935938 -1.26714951]\n",
      "8300 1.0\n",
      "[ 1.90458416 -0.77826802 -0.93404664  0.45622987 -0.52906313  0.25405114\n",
      " -0.40599424 -0.05640378 -0.06354834 -0.67187267  0.67797691 -0.12521802\n",
      "  0.58284911  0.0344383  -1.66101007 -1.26478462]\n",
      "8400 1.0\n",
      "[ 1.8976433  -0.76968693 -0.92624729  0.4592429  -0.53016368  0.25700557\n",
      " -0.41921505 -0.05308018 -0.07229047 -0.67828267  0.67530272 -0.13069692\n",
      "  0.58268918  0.02851985 -1.64101936 -1.25731587]\n",
      "8500 1.0\n",
      "[ 1.88847392 -0.75958339 -0.92309848  0.46196028 -0.53253984  0.25960551\n",
      " -0.42888472 -0.0489852  -0.07773046 -0.68016288  0.67295052 -0.13710311\n",
      "  0.57750832  0.02089692 -1.62786814 -1.25179202]\n",
      "8600 1.0\n",
      "[ 1.88025142 -0.74833421 -0.92010132  0.46582633 -0.53427611  0.2631661\n",
      " -0.43607623 -0.04367247 -0.08073707 -0.67945187  0.67096712 -0.14233634\n",
      "  0.57159477  0.01433961 -1.61589737 -1.24581922]\n",
      "8700 1.0\n",
      "[ 1.87223956 -0.73932975 -0.91751186  0.46865592 -0.53666253  0.26561653\n",
      " -0.44405824 -0.03964865 -0.08481931 -0.67949606  0.66801604 -0.14672812\n",
      "  0.56662843  0.00851742 -1.6039271  -1.2401289 ]\n",
      "8800 1.0\n",
      "[ 1.86510523 -0.73264479 -0.91147757  0.47120646 -0.53890245  0.26711326\n",
      " -0.45623525 -0.03794113 -0.09283676 -0.68417602  0.66162498 -0.1511845\n",
      "  0.56511745  0.00427458 -1.58653672 -1.23055804]\n",
      "8900 1.0\n",
      "[  1.85775818e+00  -7.24230065e-01  -9.05542416e-01   4.75061538e-01\n",
      "  -5.40373315e-01   2.69557099e-01  -4.66028367e-01  -3.51417590e-02\n",
      "  -9.82793966e-02  -6.86312951e-01   6.55463878e-01  -1.55633537e-01\n",
      "   5.62210558e-01   3.14221561e-04  -1.57075815e+00  -1.21948216e+00]\n",
      "9000 1.0\n",
      "[ 1.84890596 -0.71576293 -0.90161587  0.47863292 -0.54260779  0.27154932\n",
      " -0.47451713 -0.03230775 -0.1023209  -0.68605354  0.64966889 -0.15990074\n",
      "  0.55769721 -0.00425957 -1.55779763 -1.20885585]\n",
      "9100 1.0\n",
      "[ 1.84025472 -0.70870255 -0.8978188   0.48158356 -0.54521288  0.27276897\n",
      " -0.48371469 -0.03051668 -0.10705076 -0.6865864   0.64285998 -0.16418238\n",
      "  0.55317509 -0.00860338 -1.54501413 -1.19790335]\n",
      "9200 1.0\n",
      "[ 1.83344238 -0.70117465 -0.89197382  0.48586695 -0.54625424  0.27532576\n",
      " -0.49184947 -0.02762689 -0.11041406 -0.68659354  0.63613319 -0.16729097\n",
      "  0.54898026 -0.01116194 -1.53048    -1.18559849]\n",
      "9300 0.98\n",
      "[ 1.82609816 -0.69678508 -0.88717332  0.48793712 -0.54902785  0.27558142\n",
      " -0.50314161 -0.02749408 -0.11685091 -0.68975509  0.62686832 -0.17167028\n",
      "  0.54414087 -0.01462526 -1.51619733 -1.17397773]\n",
      "9400 1.0\n",
      "[ 1.81863816 -0.69122699 -0.88260186  0.49109627 -0.55069205  0.27710658\n",
      " -0.51142372 -0.0255149  -0.12019058 -0.68953455  0.61975782 -0.1744773\n",
      "  0.53879469 -0.01717792 -1.50314435 -1.16252119]\n",
      "9500 1.0\n",
      "[ 1.81237476 -0.68601389 -0.87893709  0.49409164 -0.5526137   0.27845565\n",
      " -0.51851306 -0.02362624 -0.12252943 -0.68848976  0.61335231 -0.17680495\n",
      "  0.53291242 -0.01965099 -1.4921989  -1.15226545]\n",
      "9600 1.0\n",
      "[ 1.80715998 -0.68138646 -0.87398454  0.49733908 -0.55358334  0.28024631\n",
      " -0.52561757 -0.02157285 -0.12475674 -0.68829503  0.60667644 -0.17886075\n",
      "  0.52722288 -0.02114968 -1.47998865 -1.14156027]\n",
      "9700 1.0\n",
      "[ 1.80145366 -0.67862789 -0.86817816  0.49962208 -0.55459233  0.28119524\n",
      " -0.53537666 -0.02085677 -0.12918029 -0.69113868  0.59780221 -0.18221577\n",
      "  0.52088055 -0.02284558 -1.46580067 -1.13008375]\n",
      "9800 1.0\n",
      "[ 1.79520625 -0.67510522 -0.86431763  0.50214441 -0.55580916  0.28251266\n",
      " -0.54226044 -0.01888731 -0.13093289 -0.69024888  0.59179902 -0.18378688\n",
      "  0.51438103 -0.02442489 -1.45465016 -1.12049124]\n",
      "9900 1.0\n",
      "[[ 0.33470511-0.02865505j -0.28603020+0.01244351j -0.33054716+0.14495175j\n",
      "  -0.21850744-0.7919377j ]\n",
      " [ 0.33184521-0.14586204j  0.81185544-0.4010121j   0.08011342+0.13159104j\n",
      "  -0.05382464-0.14849783j]\n",
      " [-0.06257025-0.24538128j  0.01405669+0.22918264j  0.74047155-0.40259771j\n",
      "   0.04237243-0.41348792j]\n",
      " [-0.11772911-0.82326621j  0.06494304+0.20290897j -0.36798238-0.01411162j\n",
      "   0.35667916+0.01236006j]]\n"
     ]
    }
   ],
   "source": [
    "rewards_2 = invasion_game(0.01, 10000, 16, True)"
   ]
  },
  {
   "cell_type": "code",
   "execution_count": 64,
   "metadata": {
    "collapsed": false
   },
   "outputs": [
    {
     "data": {
      "image/png": "[encoded data removed]",
      "text/plain": [
       "<matplotlib.figure.Figure at 0x9b45080>"
      ]
     },
     "metadata": {},
     "output_type": "display_data"
    }
   ],
   "source": [
    "e = [i for i in range(0,10001,50)]\n",
    "m_rew = [0]+[np.mean(rewards_2[e[i]-50:e[i]]) for i in range(1,len(e))]\n",
    "plt.figure(figsize=(15,8))\n",
    "plt.plot(e, m_rew)\n",
    "plt.axvline(x=5000, c='r')\n",
    "\n",
    "plt.xlabel('Episodes')\n",
    "plt.ylabel('Average last 100 rewards')\n",
    "plt.title('Learning rate: 0.01, Number controls: 16')\n",
    "plt.grid(True)\n",
    "plt.show()"
   ]
  },
  {
   "cell_type": "markdown",
   "metadata": {},
   "source": [
    "This agent here is initially luckier than the previous one, but moreover when we reversed the meaning of the symbols the environment sent him, it took him less than 200 episodes to output the correct actions again which indicates good adaptivity to environment changes.  "
   ]
  }
 ],
 "metadata": {
  "kernelspec": {
   "display_name": "Python 3",
   "language": "python",
   "name": "python3"
  },
  "language_info": {
   "codemirror_mode": {
    "name": "ipython",
    "version": 3
   },
   "file_extension": ".py",
   "mimetype": "text/x-python",
   "name": "python",
   "nbconvert_exporter": "python",
   "pygments_lexer": "ipython3",
   "version": "3.4.5"
  }
 },
 "nbformat": 4,
 "nbformat_minor": 2
}
